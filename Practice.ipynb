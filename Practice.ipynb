{
  "metadata": {
    "kernelspec": {
      "name": "python",
      "display_name": "Python (Pyodide)",
      "language": "python"
    },
    "language_info": {
      "codemirror_mode": {
        "name": "python",
        "version": 3
      },
      "file_extension": ".py",
      "mimetype": "text/x-python",
      "name": "python",
      "nbconvert_exporter": "python",
      "pygments_lexer": "ipython3",
      "version": "3.8"
    }
  },
  "nbformat_minor": 5,
  "nbformat": 4,
  "cells": [
    {
      "id": "17e1e603-70f3-45f2-aca7-fa3f6c0074b1",
      "cell_type": "code",
      "source": "Hard_work = \"success\"\nif \"success\" == Hard_work:\n     print (' \"You are going to be successful\" ')\nelse :\n     print (' \"You are going to deal with serious problems\" ')",
      "metadata": {
        "trusted": true
      },
      "outputs": [
        {
          "name": "stdout",
          "output_type": "stream",
          "text": " \"You are going to be successful\" \n"
        }
      ],
      "execution_count": 30
    },
    {
      "id": "d86481ed-584c-4aeb-b3cd-18fa922cf710",
      "cell_type": "code",
      "source": "Hard_work = \"success\"\nif \"success\" != Hard_work:\n     print (' \"You are going to be successful\" ')\nelse :\n     print (' \"You are going to deal with serious problems\" ')\n    ",
      "metadata": {
        "trusted": true
      },
      "outputs": [
        {
          "name": "stdout",
          "output_type": "stream",
          "text": " \"You are going to deal with serious problems\" \n"
        }
      ],
      "execution_count": 31
    },
    {
      "id": "190965bb-2d5c-4aab-89fe-15a186a739e6",
      "cell_type": "code",
      "source": "Age = 18\nif Age > 18:\n    print (\"You are not eligible for voting\")\nelse:\n    print (\"You are eligible for Voting\")",
      "metadata": {
        "trusted": true
      },
      "outputs": [
        {
          "name": "stdout",
          "output_type": "stream",
          "text": "You are eligible for Voting\n"
        }
      ],
      "execution_count": 37
    },
    {
      "id": "549565d9-90f5-4f64-9297-118151bbcf60",
      "cell_type": "code",
      "source": "Age = 17\nif Age < 18:\n    print (\"You are not eligible for voting\")\nelse:\n    print (\"You are eligible for Voting\")",
      "metadata": {
        "trusted": true
      },
      "outputs": [
        {
          "name": "stdout",
          "output_type": "stream",
          "text": "You are not eligible for voting\n"
        }
      ],
      "execution_count": 35
    },
    {
      "id": "05c0c704-1935-4f75-acfa-ecb30a0c5b0f",
      "cell_type": "code",
      "source": "marks = 92\n\nif marks  >= 90:\n    print(\"Grade:A\")\n    \nelif marks  >= 70:\n    print(\"Grade:B\")\n\nelif marks  >= 50:\n    print(\"Grade:C\")\n\nelse:\n    print(\"Failed, Better luck Next Time\")",
      "metadata": {
        "trusted": true
      },
      "outputs": [
        {
          "name": "stdout",
          "output_type": "stream",
          "text": "Grade:A\n"
        }
      ],
      "execution_count": 48
    },
    {
      "id": "cb7ec263-8c9b-4a9d-9e03-9497da7f1369",
      "cell_type": "code",
      "source": "marks = 72\n\nif marks  >= 90:\n    print(\"Grade:A\")\n    \nelif marks  >= 70:\n    print(\"Grade:B\")\n\nelif marks  >= 50:\n    print(\"Grade:C\")\n\nelse:\n    print(\"Failed, Better luck Next Time\")",
      "metadata": {
        "trusted": true
      },
      "outputs": [
        {
          "name": "stdout",
          "output_type": "stream",
          "text": "Grade:B\n"
        }
      ],
      "execution_count": 49
    },
    {
      "id": "ba5b9ede-fcdc-49d9-b32f-a63e17125751",
      "cell_type": "code",
      "source": "marks = 58\n\nif marks  >= 90:\n    print(\"Grade:A\")\n    \nelif marks  >= 70:\n    print(\"Grade:B\")\n\nelif marks  >= 50:\n    print(\"Grade:C\")\n\nelse:\n    print(\"Failed, Better luck Next Time\")",
      "metadata": {
        "trusted": true
      },
      "outputs": [
        {
          "name": "stdout",
          "output_type": "stream",
          "text": "Grade:C\n"
        }
      ],
      "execution_count": 50
    },
    {
      "id": "44d00933-8076-4bc3-9720-dc97a127499b",
      "cell_type": "code",
      "source": "marks = 47\n\nif marks  >= 90:\n    print(\"Grade:A\")\n    \nelif marks  >= 70:\n    print(\"Grade:B\")\n\nelif marks  >= 50:\n    print(\"Grade:C\")\n\nelse:\n    print(\"Failed, Better luck Next Time\")",
      "metadata": {
        "trusted": true
      },
      "outputs": [
        {
          "name": "stdout",
          "output_type": "stream",
          "text": "Failed, Better luck Next Time\n"
        }
      ],
      "execution_count": 51
    },
    {
      "id": "4e38d832-22dc-4d54-8e8f-be570503c500",
      "cell_type": "code",
      "source": "Secret_Number = 7\nguess = 7\n\nif guess == Secret_Number:\n    print(\"yess!, You guessed it right and that's also thala for a reason \")\n\nelif guess > Secret_Number:\n    print (\"You were too close not bad\")\n    \nelse:\n   print (\"umm umm not at all\")\n\n    \n\n",
      "metadata": {
        "trusted": true
      },
      "outputs": [
        {
          "name": "stdout",
          "output_type": "stream",
          "text": "yess!, You guessed it right and that's also thala for a reason \n"
        }
      ],
      "execution_count": 64
    },
    {
      "id": "c399151b-08df-4b9a-9be3-824f934b5fe4",
      "cell_type": "code",
      "source": "Secret_Number = 7\nguess = 9\n\nif guess == Secret_Number:\n    print(\"Yess!, You guessed it right and that's also thala for a reason\")\n\nelif guess > Secret_Number:\n    print (' \"You were too close not bad\" ')\n    \nelse:\n   print (' \"umm umm not at all\" ')\n",
      "metadata": {
        "trusted": true
      },
      "outputs": [
        {
          "name": "stdout",
          "output_type": "stream",
          "text": " \"You were too close not bad\" \n"
        }
      ],
      "execution_count": 76
    },
    {
      "id": "ff9ecefd-98cc-46a7-b343-1ba84ea76709",
      "cell_type": "code",
      "source": "Secret_Number = 7\nguess = 3\n\nif guess == Secret_Number:\n    print(\"yess!, You guessed it right and that's also thala for a reason \")\n\nelif guess > Secret_Number:\n    print (\"You were too close not bad\")\n    \nelse:\n   print ('\"umm umm not at all\"')\n",
      "metadata": {
        "trusted": true
      },
      "outputs": [
        {
          "name": "stdout",
          "output_type": "stream",
          "text": "\"umm umm not at all\"\n"
        }
      ],
      "execution_count": 78
    }
  ]
}